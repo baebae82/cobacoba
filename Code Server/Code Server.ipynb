{
  "nbformat": 4,
  "nbformat_minor": 0,
  "metadata": {
    "colab": {
      "name": "Code Server.ipynb",
      "provenance": [],
      "collapsed_sections": []
    },
    "kernelspec": {
      "name": "python3",
      "display_name": "Python 3"
    },
    "accelerator": "GPU"
  },
  "cells": [
    {
      "cell_type": "markdown",
      "metadata": {
        "id": "hWw875DoFeRr"
      },
      "source": [
        "# **CODE on Colab**\n",
        "\n",
        "`Welcome to a new notebook. As I showed you a previous notebook called Colab RDP, This notebook feature VSCode (If possible going to add more) integration on web browser using colab.`\n",
        "\n",
        "`This notebook going feature a 12 hour (max) of runtime of VS Code on a website with colab power`"
      ]
    },
    {
      "cell_type": "code",
      "metadata": {
        "id": "RiwScEg6eiXh",
        "outputId": "4f8a3aac-fd3b-4f0f-e95b-0c21a47b79bf",
        "colab": {
          "base_uri": "https://localhost:8080/"
        }
      },
      "source": [
        "from tensorflow.python.client import device_lib\n",
        "device_lib.list_local_devices()"
      ],
      "execution_count": 1,
      "outputs": [
        {
          "output_type": "execute_result",
          "data": {
            "text/plain": [
              "[name: \"/device:CPU:0\"\n",
              " device_type: \"CPU\"\n",
              " memory_limit: 268435456\n",
              " locality {\n",
              " }\n",
              " incarnation: 12110968676805017243, name: \"/device:GPU:0\"\n",
              " device_type: \"GPU\"\n",
              " memory_limit: 14509932544\n",
              " locality {\n",
              "   bus_id: 1\n",
              "   links {\n",
              "   }\n",
              " }\n",
              " incarnation: 4717193219731021882\n",
              " physical_device_desc: \"device: 0, name: Tesla T4, pci bus id: 0000:00:04.0, compute capability: 7.5\"]"
            ]
          },
          "metadata": {
            "tags": []
          },
          "execution_count": 1
        }
      ]
    },
    {
      "cell_type": "code",
      "metadata": {
        "id": "msp81xmHeqtF",
        "outputId": "6ed1801e-c61e-4160-a8d6-a143394d48ae",
        "colab": {
          "base_uri": "https://localhost:8080/"
        }
      },
      "source": [
        "from numba import jit, cuda\n",
        "import numpy as np\n",
        "# to measure exec time\n",
        "from timeit import default_timer as timer\n",
        "\n",
        "# normal function to run on cpu\n",
        "def func(a):\t\t\t\t\t\t\t\t\n",
        "\tfor i in range(10000000):\n",
        "\t\ta[i]+= 1\t\n",
        "\n",
        "\t\t\t\t\t\t\n",
        "def func2(a):\n",
        "\tfor i in range(10000000):\n",
        "\t\ta[i]+= 1\n",
        "if __name__==\"__main__\":\n",
        "\tn = 10000000\t\t\t\t\t\t\t\n",
        "\ta = np.ones(n, dtype = np.float64)\n",
        "\tb = np.ones(n, dtype = np.float32)\n",
        "\t\n",
        "\tstart = timer()\n",
        "\tfunc(a)\n",
        "\tprint(\"without GPU:\", timer()-start)\t\n",
        "\t\n",
        "\tstart = timer()\n",
        "\tfunc2(a)\n",
        "\tprint(\"with GPU:\", timer()-start)"
      ],
      "execution_count": 2,
      "outputs": [
        {
          "output_type": "stream",
          "text": [
            "without GPU: 4.680782317000009\n",
            "with GPU: 4.522945621000005\n"
          ],
          "name": "stdout"
        }
      ]
    },
    {
      "cell_type": "code",
      "metadata": {
        "cellView": "form",
        "id": "l1N_NosDIOaK"
      },
      "source": [
        "# @title Mount & Clone\n",
        "\n",
        "# Imports\n",
        "import requests\n",
        "\n",
        "# @markdown Mount GDrive\n",
        "Gdrive = False  # @param {type: 'boolean'}\n",
        "global path\n",
        "\n",
        "# @markdown Clone Repository (Github)\n",
        "repositoryUrl = \"\" # @param {type: 'string'}\n",
        "\n",
        "class MountClone:\n",
        "    def __init__(\n",
        "            self,\n",
        "            Gdrive=False,\n",
        "            repositoryUrl=\"\",\n",
        "            verbose=False):\n",
        "        \n",
        "        if Gdrive:\n",
        "            self.mount_drive()\n",
        "        if repositoryUrl:\n",
        "            self.clone_repo(repositoryUrl, verbose)\n",
        "\n",
        "    def __str__(self):\n",
        "        try:\n",
        "            return self.path\n",
        "        except NameError:\n",
        "            return ''\n",
        "        \n",
        "    def mount_drive(self):\n",
        "        from google.colab import drive\n",
        "        drive.mount('/content/drive')\n",
        "        self.path = \"/content/drive\"\n",
        "\n",
        "    def clone_repo(self, repositoryUrl, verbose=False):\n",
        "        response = requests.get(repositoryUrl)\n",
        "        if response.status_code == 200:\n",
        "            print(\"✔️ Public repository\")\n",
        "            ! cd /content\n",
        "            ! git clone $repositoryUrl\n",
        "            folder = repositoryUrl.split(\"/\")[-1]\n",
        "            self.path = f\"/content/{folder}\"\n",
        "        else:\n",
        "            print(\"❌ Not a public Repository\")\n",
        "\n",
        "if __name__ == \"__main__\":\n",
        "    path = MountClone(Gdrive=Gdrive, repositoryUrl=repositoryUrl)"
      ],
      "execution_count": null,
      "outputs": []
    },
    {
      "cell_type": "code",
      "metadata": {
        "id": "1-gADX-DD6_I",
        "cellView": "form"
      },
      "source": [
        "# @title VSCode\n",
        "\n",
        "# Imports\n",
        "import os\n",
        "import requests\n",
        "import re\n",
        "import shlex\n",
        "import time\n",
        "import signal\n",
        "\n",
        "from subprocess import Popen, PIPE, call\n",
        "\n",
        "# @markdown This code cell runs [code-server](https://github.com/cdr/code-server) with agro tunnel.\n",
        "\n",
        "# @markdown Password (Can be None)\n",
        "Password = \"\"  # @param {type: 'string'}\n",
        "\n",
        "# @markdown Sleep\n",
        "Sleep = False  # @param {type: 'boolean'}\n",
        "\n",
        "# @markdown Run this cell to start vscode\n",
        "\n",
        "class ColabCode:\n",
        "    def __init__(\n",
        "            self,\n",
        "            port=10000,\n",
        "            password='',\n",
        "            verbose=False,\n",
        "            sleep=False):\n",
        "\n",
        "        self.install_server(verbose)\n",
        "        self.start_code(port=port, password=password, verbose=verbose)\n",
        "\n",
        "        if sleep:\n",
        "            time.sleep(43200)\n",
        "\n",
        "    @staticmethod\n",
        "    def __get_agro():\n",
        "        hostname = None\n",
        "        output = requests.get(\"http://localhost:45678/metrics\").text\n",
        "        result = re.search('cloudflared_tunnel_user_hostnames_counts{userHostname=\"https://(.+?)\"}', output)\n",
        "        if result is None:\n",
        "            raise Exception(\"Cannot get any result from cloudflared metrics\")\n",
        "        hostname = result.group(1)\n",
        "        if hostname is None:\n",
        "            raise Exception(\"Cannot get the hostname from cloudflared, it looks like the connection has failed.\")\n",
        "        return hostname\n",
        "\n",
        "    def install_server(self, verbose=False):\n",
        "        os.system(\"kill -9 $(ps aux | grep 'cloudflared' | awk '{print $2}')\")\n",
        "\n",
        "        if not os.path.isfile(\"cloudflared\"):\n",
        "            ! wget -q -nc https://bin.equinox.io/c/VdrWdbjqyF/cloudflared-stable-linux-amd64.tgz &> /dev/null\n",
        "            ! tar zxf cloudflared-stable-linux-amd64.tgz &> /dev/null\n",
        "        else:\n",
        "            if verbose:\n",
        "                print(\"DEBUG: Skipping installation\")\n",
        "        \n",
        "        if not os.path.isdir(\"/root/.local/share/code-server/\"):\n",
        "            settings_path = '/root/.local/share/code-server/User'\n",
        "            ! curl -fsSL https://code-server.dev/install.sh | sh &> /dev/null\n",
        "            if not os.path.exists(settings_path):\n",
        "                os.makedirs(settings_path)\n",
        "            with open(f'{settings_path}/settings.json', 'w') as settings:\n",
        "                settings.write(\"\"\"{\n",
        "    \"extensions.autoUpdate\": false,\n",
        "    \"extensions.autoCheckUpdates\": false\n",
        "}\"\"\")\n",
        "\n",
        "    def start_code(self, port=10000, password=None, verbose=False):\n",
        "        if password:\n",
        "            code_cmd = f'PASSWORD={password} code-server --port {port} --disable-telemetry'\n",
        "        else:\n",
        "            code_cmd = f'code-server --port {port} --auth none --disable-telemetry'\n",
        "\n",
        "        agro_cmd = f'./cloudflared tunnel --url http://127.0.0.1:10000 --metrics localhost:45678'\n",
        "\n",
        "        code_proc = Popen([code_cmd], shell=True, stdout=PIPE)\n",
        "        agro_proc = Popen(shlex.split(agro_cmd), stdout=PIPE)\n",
        "\n",
        "        if verbose:\n",
        "            print(f\"DEBUG: Code Server process: {code_proc.pid}\")\n",
        "            print(f\"DEBUG: Cloudflared process: {agro_proc.pid}\")\n",
        "\n",
        "        time.sleep(3)\n",
        "        try:\n",
        "            info = self.__get_agro()\n",
        "            print('VSCode Server is ready, Visit https://{}/{}'.format(\n",
        "                info, \n",
        "                f'?folder={path}' if path else ''))\n",
        "        except NameError:\n",
        "            info = self.__get_agro()\n",
        "            print(f'VSCode Server is ready, Visit https://{info}')\n",
        "        except Exception:\n",
        "            os.kill(code_proc.pid, signal.SIGKILL)\n",
        "            os.kill(agro_proc.pid, signal.SIGKILL)\n",
        "            print(f\"FAILED: Killing Server... Retry again ...\")\n",
        "            sleep = False\n",
        "\n",
        "\n",
        "if __name__ == \"__main__\":\n",
        "    ColabCode(password=Password, sleep=Sleep)"
      ],
      "execution_count": null,
      "outputs": []
    },
    {
      "cell_type": "code",
      "metadata": {
        "cellView": "form",
        "id": "KDhBSBj8Ncoz"
      },
      "source": [
        "# @title VSCode Extension Install\n",
        "# @markdown Visit [Open VSX](https://open-vsx.org) and copy the download link of extension and paste here\n",
        "# @markdown any downloadable url of `vsix` file supported\n",
        "\n",
        "downloadUrl = \"https://open-vsx.org/api/ms-python/python/2020.10.332292344/file/ms-python.python-2020.10.332292344.vsix\" # @param {type: 'string'}\n",
        "\n",
        "if downloadUrl:\n",
        "    ! wget $downloadUrl -O /tmp/extension.vsix &> /dev/null\n",
        "    ! code-server --install-extension /tmp/extension.vsix\n",
        "    ! rm /tmp/extension.vsix"
      ],
      "execution_count": null,
      "outputs": []
    },
    {
      "cell_type": "markdown",
      "metadata": {
        "id": "bm02ktGzm4xP"
      },
      "source": [
        "# **END NOTE**\n",
        "\n",
        "`THANK YOU FOR YOUR ALL LOVE AND SUPPORT, GOING TO ADD MORE FUNCTIONALITY SOON`\n"
      ]
    }
  ]
}